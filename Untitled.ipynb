{
 "cells": [
  {
   "cell_type": "code",
   "execution_count": 1,
   "metadata": {},
   "outputs": [],
   "source": [
    "import random\n"
   ]
  },
  {
   "cell_type": "code",
   "execution_count": 2,
   "metadata": {},
   "outputs": [],
   "source": [
    "class myException_1(Exception):\n",
    "\n",
    "    pass\n",
    "\n",
    "class myException_2(Exception):\n",
    "    pass"
   ]
  },
  {
   "cell_type": "code",
   "execution_count": 3,
   "metadata": {},
   "outputs": [
    {
     "name": "stdout",
     "output_type": "stream",
     "text": [
      "a was divisible by 2\n",
      "something happened\n"
     ]
    }
   ],
   "source": [
    "try:\n",
    "    a = random.randint(0,10)\n",
    "    if a % 2 == 0:\n",
    "        raise myException_1(\"something happened\")\n",
    "    elif a % 3 ==0:\n",
    "        raise myException_2(\"something else happened\")\n",
    "    else:\n",
    "        print(\"we made it!\")\n",
    "except myException_2 as e:\n",
    "    print(\"a was divisible by 3\")\n",
    "    print(e)\n",
    "except myException_1 as e:\n",
    "    print(\"a was divisible by 2\")\n",
    "    print(e)"
   ]
  },
  {
   "cell_type": "code",
   "execution_count": null,
   "metadata": {},
   "outputs": [],
   "source": []
  }
 ],
 "metadata": {
  "kernelspec": {
   "display_name": "Python 3",
   "language": "python",
   "name": "python3"
  },
  "language_info": {
   "codemirror_mode": {
    "name": "ipython",
    "version": 3
   },
   "file_extension": ".py",
   "mimetype": "text/x-python",
   "name": "python",
   "nbconvert_exporter": "python",
   "pygments_lexer": "ipython3",
   "version": "3.6.10"
  }
 },
 "nbformat": 4,
 "nbformat_minor": 4
}
