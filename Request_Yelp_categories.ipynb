{
 "cells": [
  {
   "cell_type": "code",
   "execution_count": 1,
   "metadata": {},
   "outputs": [],
   "source": [
    "# Dependencies and Setup\n",
    "from datetime import datetime\n",
    "import pandas as pd\n",
    "import numpy as np\n",
    "import os\n",
    "import requests\n",
    "import json\n",
    "from pprint import pprint\n",
    "from dotenv import load_dotenv"
   ]
  },
  {
   "cell_type": "code",
   "execution_count": 2,
   "metadata": {},
   "outputs": [
    {
     "name": "stdout",
     "output_type": "stream",
     "text": [
      "Monday\n"
     ]
    }
   ],
   "source": [
    "# Day of the week\n",
    "today = datetime.today()\n",
    "weekday = today.isoweekday()\n",
    "\n",
    "days_week_dict = {1: \"Monday\", 2: \"Tuesday\", 3: \"Wednesday\", 4: \"Thursday\",\n",
    "                 5: \"Friday\", 6: \"Saturday\", 7: \"Sunday\"}\n",
    "day_of_the_week = days_week_dict.get(weekday)\n",
    "print(day_of_the_week)"
   ]
  },
  {
   "cell_type": "code",
   "execution_count": 3,
   "metadata": {},
   "outputs": [
    {
     "name": "stdout",
     "output_type": "stream",
     "text": [
      "Folder already exists.\n"
     ]
    }
   ],
   "source": [
    "# Creates directory for current day of the week, raises an error if already exists.\n",
    "parent_dir = 'json_files'\n",
    "output_dir = f'{day_of_the_week}_Categories'\n",
    "path = os.path.join(parent_dir, output_dir)\n",
    "\n",
    "try:\n",
    "    os.mkdir(path)\n",
    "except:\n",
    "    print('Folder already exists.')"
   ]
  },
  {
   "cell_type": "code",
   "execution_count": 4,
   "metadata": {},
   "outputs": [],
   "source": [
    "# API Call\n",
    "load_dotenv()\n",
    "API_KEY = os.getenv(\"Yelp_API\") # put your key here if you don't have a .env file in your main project folder.\n",
    "headers = {'Authorization': 'Bearer %s' % API_KEY}\n",
    "base_url = \"https://api.yelp.com/v3/businesses/search\""
   ]
  },
  {
   "cell_type": "code",
   "execution_count": 5,
   "metadata": {},
   "outputs": [
    {
     "data": {
      "text/html": [
       "<div>\n",
       "<style scoped>\n",
       "    .dataframe tbody tr th:only-of-type {\n",
       "        vertical-align: middle;\n",
       "    }\n",
       "\n",
       "    .dataframe tbody tr th {\n",
       "        vertical-align: top;\n",
       "    }\n",
       "\n",
       "    .dataframe thead th {\n",
       "        text-align: right;\n",
       "    }\n",
       "</style>\n",
       "<table border=\"1\" class=\"dataframe\">\n",
       "  <thead>\n",
       "    <tr style=\"text-align: right;\">\n",
       "      <th></th>\n",
       "      <th>NFL Team</th>\n",
       "      <th>City</th>\n",
       "      <th>State</th>\n",
       "      <th>Stadium Name</th>\n",
       "      <th>Latitude</th>\n",
       "      <th>Longitude</th>\n",
       "      <th>Zip Code</th>\n",
       "    </tr>\n",
       "  </thead>\n",
       "  <tbody>\n",
       "    <tr>\n",
       "      <th>0</th>\n",
       "      <td>Arizona Cardinals</td>\n",
       "      <td>Glendale</td>\n",
       "      <td>Arizona</td>\n",
       "      <td>State Farm Stadium</td>\n",
       "      <td>33.528000</td>\n",
       "      <td>-112.263000</td>\n",
       "      <td>85305</td>\n",
       "    </tr>\n",
       "    <tr>\n",
       "      <th>1</th>\n",
       "      <td>Atlanta Falcons</td>\n",
       "      <td>Atlanta</td>\n",
       "      <td>Georgia</td>\n",
       "      <td>Mercedes-Benz Stadium</td>\n",
       "      <td>33.755556</td>\n",
       "      <td>-84.400000</td>\n",
       "      <td>30313</td>\n",
       "    </tr>\n",
       "    <tr>\n",
       "      <th>2</th>\n",
       "      <td>Baltimore Ravens</td>\n",
       "      <td>Baltimore</td>\n",
       "      <td>Maryland</td>\n",
       "      <td>M&amp;T Bank Stadium</td>\n",
       "      <td>39.278056</td>\n",
       "      <td>-76.622778</td>\n",
       "      <td>21230</td>\n",
       "    </tr>\n",
       "    <tr>\n",
       "      <th>3</th>\n",
       "      <td>Buffalo Bills</td>\n",
       "      <td>Orchard Park</td>\n",
       "      <td>New York</td>\n",
       "      <td>Bills Stadium</td>\n",
       "      <td>42.774000</td>\n",
       "      <td>-78.787000</td>\n",
       "      <td>14127</td>\n",
       "    </tr>\n",
       "    <tr>\n",
       "      <th>4</th>\n",
       "      <td>Carolina Panthers</td>\n",
       "      <td>Charlotte</td>\n",
       "      <td>North Carolina</td>\n",
       "      <td>Bank of America Stadium</td>\n",
       "      <td>35.225833</td>\n",
       "      <td>-80.852778</td>\n",
       "      <td>28202</td>\n",
       "    </tr>\n",
       "  </tbody>\n",
       "</table>\n",
       "</div>"
      ],
      "text/plain": [
       "            NFL Team          City           State             Stadium Name  \\\n",
       "0  Arizona Cardinals      Glendale         Arizona       State Farm Stadium   \n",
       "1    Atlanta Falcons       Atlanta         Georgia    Mercedes-Benz Stadium   \n",
       "2   Baltimore Ravens     Baltimore        Maryland         M&T Bank Stadium   \n",
       "3      Buffalo Bills  Orchard Park        New York            Bills Stadium   \n",
       "4  Carolina Panthers     Charlotte  North Carolina  Bank of America Stadium   \n",
       "\n",
       "    Latitude   Longitude Zip Code  \n",
       "0  33.528000 -112.263000    85305  \n",
       "1  33.755556  -84.400000    30313  \n",
       "2  39.278056  -76.622778    21230  \n",
       "3  42.774000  -78.787000    14127  \n",
       "4  35.225833  -80.852778    28202  "
      ]
     },
     "execution_count": 5,
     "metadata": {},
     "output_type": "execute_result"
    }
   ],
   "source": [
    "stadium_data_df = pd.read_csv('Resources/stadium_coordinates.csv', dtype={\n",
    "    \"NFL Team\": \"string\",\n",
    "    \"City\": \"string\",\n",
    "    \"State\": \"string\",\n",
    "    \"Stadium Name\": \"string\",\n",
    "    \"Latitude\": np.float64,\n",
    "    \"Longitude\": np.float64,\n",
    "    \"Zip Code\": \"string\"\n",
    "})\n",
    "stadium_data_df = stadium_data_df.dropna()\n",
    "stadium_data_df.head()"
   ]
  },
  {
   "cell_type": "code",
   "execution_count": 7,
   "metadata": {},
   "outputs": [],
   "source": [
    "# Make a list of coordinate tuples (lat, lng, city) for each team\n",
    "stadium_zip = zip(stadium_data_df[\"Latitude\"], stadium_data_df[\"Longitude\"], stadium_data_df['NFL Team'])\n",
    "stadium = list(stadium_zip)\n",
    "#print(stadium)"
   ]
  },
  {
   "cell_type": "code",
   "execution_count": 8,
   "metadata": {},
   "outputs": [],
   "source": [
    "# API Parameters\n",
    "search_limit = 20 #limit to 20 business names per query\n",
    "radius = 3000 #radius in meters\n",
    "term = \"restaurants\"\n",
    "search_params = {\"term\": term, \"limit\": search_limit, \"radius\": radius, \"sort_by\": \"rating\", \n",
    "                 \"categories\":(\"sportsbars\",\"pubs\",\"wine_bars\", \"cocktailbars\")}\n",
    "\n",
    "# lists to store the data retrieve from Yelp\n",
    "business_name = []\n",
    "business_state = []\n",
    "business_price = []\n",
    "business_rating = []\n",
    "business_reviews = []\n",
    "number_business = []\n",
    "#print(stadium)"
   ]
  },
  {
   "cell_type": "code",
   "execution_count": 9,
   "metadata": {},
   "outputs": [],
   "source": [
    "# Create Exception\n",
    "\n",
    "class Exception_1(Exception):\n",
    "    \"\"\" Raised if parsing json failes \"\"\"\n",
    "    pass"
   ]
  },
  {
   "cell_type": "code",
   "execution_count": 10,
   "metadata": {},
   "outputs": [
    {
     "name": "stdout",
     "output_type": "stream",
     "text": [
      "0, Arizona Cardinals total: 11\n",
      "1, Atlanta Falcons total: 57\n",
      "2, Baltimore Ravens total: 55\n",
      "3, Buffalo Bills total: 3\n",
      "4, Carolina Panthers total: 69\n",
      "5, Chicago Bears total: 127\n",
      "6, Cincinnati Bengals total: 57\n",
      "7, Cleveland Browns total: 39\n",
      "8, Dallas Cowboys total: 25\n",
      "9, Denver Broncos total: 58\n",
      "10, Detroit Lions total: 65\n",
      "11, Green Bay Packers total: 10\n",
      "12, Houston Texans total: 3\n",
      "13, Indianapolis Colts total: 35\n",
      "14, Jacksonville Jaguars total: 12\n",
      "15, Kansas City Chiefs total: 1\n",
      "16, Las Vegas Raiders total: 79\n",
      "17, Los Angeles Chargers total: 4\n",
      "18, Los Angeles Rams total: 4\n",
      "Error parsing json.\n",
      "Please try again later.\n",
      "\n",
      "19, Miami Dolphins total: 4\n",
      "20, Minnesota Vikings total: 64\n",
      "21, New England Patriots total: 3\n",
      "22, New Orleans Saints total: 97\n",
      "23, New York Giants total: 5\n",
      "24, New York Jets total: 5\n",
      "25, Philadelphia Eagles total: 23\n",
      "26, Pittsburgh Steelers total: 38\n",
      "27, San Francisco 49ers total: 11\n",
      "28, Seattle Seahawks total: 154\n",
      "29, Tampa Bay Buccaners total: 15\n",
      "30, Tennessee Titans total: 77\n",
      "31, Washington Football Team total: 1\n"
     ]
    }
   ],
   "source": [
    "#Loop to dump data into json files based on (lat,lng)\n",
    "count_f = 0\n",
    "\n",
    "\n",
    "for latitude, longitude, team in stadium:\n",
    "        \n",
    "    search_params.update({\"latitude\": latitude, \"longitude\": longitude})\n",
    "    response = requests.get(url = base_url, params = search_params, headers = headers).json()\n",
    "    try:\n",
    "        \n",
    "        if response['total']== False:\n",
    "            raise Exception_1\n",
    "        elif response['total'] >= 1000:\n",
    "            total = 1000\n",
    "        else:\n",
    "            total = response['total']\n",
    "        \n",
    "        for search_offset in range(0, total, 20):\n",
    "        \n",
    "            search_params.update({\"offset\": search_offset})\n",
    "            response2 = requests.get(url = base_url, params = search_params, headers = headers).json()\n",
    "            file_name = f'yelp_category_response_{team}_{search_offset}.json'\n",
    "            output_path = os.path.join(path, file_name)\n",
    "            \n",
    "            with open(output_path,'w', encoding = 'utf-8') as f:\n",
    "                json.dump(response2, f, ensure_ascii=False, indent =4)\n",
    "            f.close()\n",
    "            \n",
    "    except Exception_1 as e:\n",
    "        print(\"Error parsing json.\\nPlease try again later.\")\n",
    "        print(e)\n",
    "        \n",
    "    print(f'{count_f}, {team} total: {total}')\n",
    "    \n",
    "    count_f += 1\n",
    "        "
   ]
  },
  {
   "cell_type": "code",
   "execution_count": null,
   "metadata": {},
   "outputs": [],
   "source": []
  }
 ],
 "metadata": {
  "kernelspec": {
   "display_name": "Python 3",
   "language": "python",
   "name": "python3"
  },
  "language_info": {
   "codemirror_mode": {
    "name": "ipython",
    "version": 3
   },
   "file_extension": ".py",
   "mimetype": "text/x-python",
   "name": "python",
   "nbconvert_exporter": "python",
   "pygments_lexer": "ipython3",
   "version": "3.6.10"
  }
 },
 "nbformat": 4,
 "nbformat_minor": 4
}
